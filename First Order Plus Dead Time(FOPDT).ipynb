{
 "cells": [
  {
   "cell_type": "markdown",
   "metadata": {},
   "source": [
    "## Equation:\n",
    "A first-order linear system with time delay is a common empirical description of many stable dynamic processes. The euation:\n",
    "$$\\tau_p \\frac{dy(t)}{dt} = -y(t) + K_p u\\left(t-\\theta_p\\right)$$\n",
    "where y(t) is input and u(t) is output and:\n",
    "$$K_p \\quad \\mathrm{= Process \\; gain}$$\n",
    "$$\\tau_p \\quad \\mathrm{= Process \\; time \\; constant}$$\n",
    "$$\\theta_p \\quad \\mathrm{= Process \\; dead \\; time}$$\n",
    "\n",
    "### Process Gain:\n",
    "The process gain is the change in the output y induced by a unit change in the input u.\n",
    "$$K_p = \\frac{\\Delta y}{\\Delta u} = \\frac{y_{ss_2}-y_{ss_1}}{u_{ss_2}-u_{ss_1}}$$\n",
    "\n",
    "### Process Time Constant:\n",
    "The process time constant is the amount of time needed for the output to reach 63.2% of the way to steady state conditions. It reflects how fast it takes to get from one steady state to other\n",
    "$$y\\left( \\tau_p \\right) = \\left( 1 - e^{-\\tau_p / \\tau_p} \\right) K_p \\Delta u = \\left( 1 - e^{-1} \\right) K_p \\Delta u = 0.632 K_p \\Delta u$$\n",
    "\n",
    "### Process Time Delay:\n",
    "It reflects how long it takes the output to start responding to the input.\n",
    "The time delay is expressed as a time shift in the input variable u(t):\n",
    "$$u\\left(t-\\theta_p\\right)$$"
   ]
  },
  {
   "cell_type": "markdown",
   "metadata": {},
   "source": [
    "## FOPDT Graphical Fit: To Step Test\n",
    "Follow the following steps when fitting the parameters $K_p, \\tau_p, \\theta_p$ to a step response:\n",
    "1. Find $\\Delta y$ from step response\n",
    "2. Find $\\Delta u$ from step response\n",
    "3. Calculate $K_p = {\\Delta y} / {\\Delta u}$\n",
    "4. Find $\\theta_p$, apparent dead time, from step response\n",
    "5. Find $0.632 \\Delta y$ from step response\n",
    "6. Find $t_{0.632}$ for $y(t_{0.632}) = 0.632 \\Delta y$ from step response\n",
    "7. Calculate $\\tau_p = t_{0.632} - \\theta_p$. This assumes that the step starts at $t=0$. If the step happens later, subtract the step time as well.\n"
   ]
  },
  {
   "cell_type": "code",
   "execution_count": null,
   "metadata": {},
   "outputs": [],
   "source": []
  },
  {
   "cell_type": "code",
   "execution_count": null,
   "metadata": {},
   "outputs": [],
   "source": []
  }
 ],
 "metadata": {
  "kernelspec": {
   "display_name": "Python 3",
   "language": "python",
   "name": "python3"
  },
  "language_info": {
   "codemirror_mode": {
    "name": "ipython",
    "version": 3
   },
   "file_extension": ".py",
   "mimetype": "text/x-python",
   "name": "python",
   "nbconvert_exporter": "python",
   "pygments_lexer": "ipython3",
   "version": "3.7.6"
  }
 },
 "nbformat": 4,
 "nbformat_minor": 4
}
